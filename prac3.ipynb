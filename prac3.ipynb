{
 "cells": [
  {
   "cell_type": "markdown",
   "metadata": {},
   "source": [
    "# Introduction to Artificial Intelligence for Non Computing"
   ]
  },
  {
   "cell_type": "markdown",
   "metadata": {},
   "source": [
    "## Practical 3 (weeks 5 - 6)"
   ]
  },
  {
   "cell_type": "markdown",
   "metadata": {},
   "source": [
    "The following links provide additional information about data analysis , machine learning and Numpy"
   ]
  },
  {
   "cell_type": "markdown",
   "metadata": {},
   "source": [
    "Python data analysis: https://www.imooc.com/learn/843\n",
    "machine learning: https://www.imooc.com/learn/717\n",
    "Numpy :https://www.imooc.com/learn/943"
   ]
  },
  {
   "cell_type": "markdown",
   "metadata": {},
   "source": [
    "#### Theory Questions"
   ]
  },
  {
   "cell_type": "markdown",
   "metadata": {},
   "source": [
    "1\\.Which of the following are true and which are false? Give brief explanations.\n",
    "- a. In a fully observable, turn-taking, zero-sum game between two perfectly rational players,it does not help the first player to know what strategy the second player is using—that is, what move the second player will make, given the first player's move.\n",
    "- b. In a partially observable, turn-taking, zero-sum game between two perfectly rational players, it does not help the first player to know what move the second player will make, given the first player's move.\n",
    "- c. A perfectly rational backgammon agent never loses.\n",
    "\n",
    "See textbook Chapter6 24.6"
   ]
  },
  {
   "cell_type": "markdown",
   "metadata": {},
   "source": [
    "_your answer here..._ \n",
    "\n",
    "***\n",
    "a: True. Two equally good moves an opponent will not change the value of the game.\n",
    "\n",
    "b: Wrong. the movement of the second player tells the first player additional information about the state of the game.\n",
    "\n",
    "c: Wrong. The expected bonus is the best.\n"
   ]
  },
  {
   "cell_type": "markdown",
   "metadata": {},
   "source": [
    "2\\.Define in your own words the terms constraint, backtracking search, arc consistency,backjumping, min-conflicts, and cycle cutset.\n",
    "\n",
    "See textbook Chapter6 6.16"
   ]
  },
  {
   "cell_type": "markdown",
   "metadata": {},
   "source": [
    "_your answer here..._ \n",
    "\n",
    "***\n",
    "the terms constraint : Formally speaking, a constraint satisfaction problem (or CSP) is defined by a set of vari-ables, X1, X2, . . . , Xn, and a set of constraints, C1, C2, . . . , Cm.\n",
    "\n",
    "backtracking search : The term backtracking search is used for a depth-first search that chooses values for one variable at a time and backtracks when a variable has no legal values left to assign.\n",
    "\n",
    "arc consistency : consistency provides a fast method of constraint propagation that is substantially stronger than forward checking.\n",
    "\n",
    "backjumping : The backjumping method backtracks to the most recent variable in the conflict set; in this case, backjumping would jump over Tasmania and try a new value for V .\n",
    "\n",
    "min-conflicts :In choosing a new value for a variable, the most obvious heuristic is to select the value that results in the minimum number of conflicts with other variables.\n",
    "\n",
    "cycle cutset : Choose a subset S from variables such that the constraint graph becomes a tree after removal of S. S is called a cycle cutset.\n"
   ]
  },
  {
   "cell_type": "markdown",
   "metadata": {},
   "source": [
    "3\\.Explain why it is a good heuristic to choose the variable that is most constrained but the value that is least constraining in a CSP search.\n",
    "\n",
    "See textbook Chapter6 6.9"
   ]
  },
  {
   "cell_type": "markdown",
   "metadata": {},
   "source": [
    "_your answer here..._ \n",
    "\n",
    "***\n",
    "\n",
    "This is because it will choose a variable that is likely to cause a failure, and it is most efficient to fail as early as possible.\n"
   ]
  },
  {
   "cell_type": "markdown",
   "metadata": {},
   "source": [
    "4\\.Consider the following procedure for choosing moves in games with chance nodes: \n",
    "- 1、Generate some dice-roll sequences (say, 50) down to a suitable depth (say, 8).\n",
    "- 2、With known dice rolls, the game tree becomes deterministic. For each dice-roll sequence,solve the resulting deterministic game tree using alpha-beta.\n",
    "- 3、Use the results to estimate the value of each move and to choose the best.Will this procedure work well? Why (or why not)?\n",
    "\n",
    "See textbook Chapter5 5.19"
   ]
  },
  {
   "cell_type": "markdown",
   "metadata": {},
   "source": [
    "_your answer here..._ \n",
    "\n",
    "***\n",
    "\n",
    "It will work (is called Monte Carlo Search), but it's accuracy depends on the percentage of nodes cover. With 8 dice rolls there are 8^6 (262,144) possible outcomes, so using 50 only covers 0.02% of those."
   ]
  },
  {
   "cell_type": "markdown",
   "metadata": {},
   "source": [
    "5\\. Now,please consider this game:  there are three plates A, B and C, each plate has three bills. A puts 1, 20, 50; B puts 5, 10, 100; C puts 1, 5, 20. All units are \"Yuan\". There are two persons A and B, and two of them can check out three plates and banknotes .（ A is ourself, The other is B）\n",
    "The game is divided into three steps: \n",
    "- 1、A select a plate from three plate.\n",
    "- 2、B take out two banknotes from A selected plate,and give the  banknotes to A.  \n",
    "- 3、A take one of the two banknotes, and take it away.among,A want to get the max banknotes, B want to let A to get the min.\n",
    "\n",
    "Try to understand the minimax algorithm，you can click the link:https://blog.csdn.net/tangchenyi/article/details/22920031"
   ]
  },
  {
   "cell_type": "markdown",
   "metadata": {},
   "source": [
    "_your answer here..._ \n",
    "\n",
    "***\n",
    "- 1、The following figure is the pattern tree of the above example problem:\n",
    "<div style=\"float:left;\" ><img src=\"img2/p1.png\" width=\"400\" height=\"300\" >\n",
    "\n",
    "- 2、then our choose the banknotes, so we should select the maximum value structure, the value of each node is the maximum .\n",
    "<div style=\"float:left;\" ><img src=\"img2/p2.png\" width=\"400\" height=\"300\" >\n",
    "\n",
    "- 3、The third step, assume that the other side will try to give us the minimized value.We can also choose the corresponding maximum\n",
    "<div style=\"float:left;\" ><img src=\"img2/p3.png\" width=\"400\" height=\"300\" >\n",
    "\n",
    "- 4、The value of the root node is 20, which means that  the opponent makes perfectly of  every decision,This is our best decision under the Minimax algorithm. The pattern transformation path is shown in the red path :\n",
    "<div style=\"float:left;\" ><img src=\"img2/p4.png\" width=\"400\" height=\"300\" >\n",
    "\n",
    "- Minimax is generally looking for a local optimal solution rather than a global optimal solution. The more the search depth is more likely to find a better solution, but the time consuming will be exponentially expanded."
   ]
  },
  {
   "cell_type": "markdown",
   "metadata": {},
   "source": [
    "### Programming Excercises"
   ]
  },
  {
   "cell_type": "markdown",
   "metadata": {},
   "source": [
    "1\\. Guess number(Single number): please generate a randomly number  with the function (random), then ask someone to guess the number,I think we should give the corresponding hint, otherwise it will be very difficult to guess the number.the game will be over untill you get the right number."
   ]
  },
  {
   "cell_type": "code",
   "execution_count": 4,
   "metadata": {},
   "outputs": [
    {
     "name": "stdout",
     "output_type": "stream",
     "text": [
      "please guess a number between 0 and 100\n",
      "40\n",
      "It is too high.\n",
      "please guess a number between 0 and 100\n",
      "30\n",
      "It is too high.\n",
      "please guess a number between 0 and 100\n",
      "20\n",
      "It is too high.\n",
      "please guess a number between 0 and 100\n",
      "10\n",
      "It is too high.\n",
      "please guess a number between 0 and 100\n",
      "5\n",
      "It is too slow.\n",
      "please guess a number between 0 and 100\n",
      "7\n",
      "It is too high.\n",
      "please guess a number between 0 and 100\n",
      "6\n",
      "That`s right!\n"
     ]
    }
   ],
   "source": [
    "import random\n",
    "number = random.randint(0,100)\n",
    "\n",
    "guessed_number = 0\n",
    "while True:\n",
    "    print('please guess a number between 0 and 100')\n",
    "    guessed_number = input()\n",
    "    guessed_number = int (guessed_number)\n",
    "    if guessed_number == number:\n",
    "        print('That`s right!')\n",
    "        break\n",
    "    elif guessed_number < number:\n",
    "            print('It is too slow.')\n",
    "    elif guessed_number > number:\n",
    "            print('It is too high.')"
   ]
  },
  {
   "cell_type": "markdown",
   "metadata": {},
   "source": [
    "2\\.if you had understand the guess single number games,Congratulates,next is the guess three number games,Maybe you can do it well.But this is a different way of thinking. \n",
    "first : we need generate three numbers,there are most ten times chances give  you to guess the number,of course,we also give you some cue.\n",
    "\n",
    "- 'When I say:-->It means:\n",
    "- 'error--> The 3 numbers are not in the mystical numbers.'\n",
    "- 'Only the number is correct --> the number is right , but the position is not right.'\n",
    "- 'Absolutely right--> numbers is right and the position also right.'\n",
    "\n",
    "Maybe it's better for you to understand the rule well through see the picture.\n",
    "<div style=\"float:left;\" ><img src=\"img/p1.png\" width=\"400\" height=\"300\" >"
   ]
  },
  {
   "cell_type": "code",
   "execution_count": 16,
   "metadata": {},
   "outputs": [
    {
     "name": "stdout",
     "output_type": "stream",
     "text": [
      "there are  3 numbers，You have  10  chance to guess it.\n",
      "\n",
      "This is the 1 time: 567\n",
      "['Only the number is correct', 'error', 'error']\n",
      "\n",
      "This is the 2 time: 158\n",
      "['Only the number is correct', 'Only the number is correct', 'error']\n",
      "\n",
      "This is the 3 time: 315\n",
      "['error', 'Absolutely right', 'Absolutely right']\n",
      "\n",
      "This is the 4 time: 915\n",
      "Congratulations!\n",
      "Do you want to play again? (yes or no)no\n"
     ]
    }
   ],
   "source": [
    "## write your answer here!\n",
    "import random\n",
    "NUM_DIGITS = 3\n",
    "MAX_GUESS = 10\n",
    "\n",
    "def getSecretNum():\n",
    "    # Returns a random string numbers of non repeating that consisting of NUM_DIGITS .\n",
    "    numbers = list(range(10))\n",
    "    random.shuffle(numbers)\n",
    "    secretNum = ''\n",
    "    for i in range(NUM_DIGITS):\n",
    "        secretNum += str(numbers[i])\n",
    "    return secretNum\n",
    "\n",
    "def getClues(guess, secretNum):\n",
    "    # Returns a string that is completely correct, digitally correct and erroneous, used to prompt users.\n",
    "    if guess == secretNum:\n",
    "        return 'Congratulations!'\n",
    "    clues = []\n",
    "    for i in range(len(guess)):\n",
    "        if guess[i] == secretNum[i]:\n",
    "            clues.append('Absolutely right')\n",
    "        elif guess[i] != secretNum[i] and guess[i] in secretNum:\n",
    "            clues.append('Only the number is correct')\n",
    "        else:\n",
    "            clues.append(\"error\")\n",
    "    return clues\n",
    "\n",
    "while True:\n",
    "    secretNum = getSecretNum()\n",
    "    print('there are  %s numbers，You have  %s  chance to guess it.' % (NUM_DIGITS,MAX_GUESS))\n",
    "    guessesTaken = 1\n",
    "    #judge the game if continue.\n",
    "    while guessesTaken <= MAX_GUESS:\n",
    "        guess = ''\n",
    "        while len(guess) != NUM_DIGITS:\n",
    "            print()\n",
    "            guess = input('This is the %s time: ' % (guessesTaken))\n",
    "        print(getClues(guess, secretNum))\n",
    "        guessesTaken += 1\n",
    "        if guess == secretNum:\n",
    "            break\n",
    "        if guessesTaken > MAX_GUESS:\n",
    "            print('You lost the game,the right answer is  %s.' % (secretNum))\n",
    "    m = input('Do you want to play again? (yes or no)')\n",
    "    if not m.lower().startswith('y'):\n",
    "        break"
   ]
  },
  {
   "cell_type": "markdown",
   "metadata": {},
   "source": [
    "3\\.please try using Python's Tkinter to make a visual interface（GUI）.if you don't know anything.Maybe you can refer to the below interface.and implement it by code.\n",
    "\n",
    "<div style=\"float:left;\" ><img src=\"img/p2.png\" width=\"200\" height=\"200\" >"
   ]
  },
  {
   "cell_type": "code",
   "execution_count": 7,
   "metadata": {},
   "outputs": [],
   "source": [
    "## write your answer here!\n",
    "# -*- coding: UTF-8 -*-\n",
    "from tkinter import *\n",
    "root = Tk()  \n",
    "# Create the background color of the window object\n",
    "# Create two lists\n",
    "li = ['C', 'python', 'php', 'html', 'SQL', 'java']\n",
    "movie = ['CSS', 'jQuery', 'Bootstrap']\n",
    "list1 = Listbox(root)  \n",
    "\n",
    "# Create two list components\n",
    "list2 = Listbox(root)\n",
    "for item in li:  \n",
    "    # The first widget is inserted into the data\n",
    "    list1.insert(0, item)\n",
    "\n",
    "for item in movie:  \n",
    "    # The second widget is inserted into the data\n",
    "    list2.insert(0, item)\n",
    "\n",
    "list1.pack()  # Place the widget into the main window\n",
    "list2.pack()\n",
    "root.mainloop()  # Enter the message cycle"
   ]
  },
  {
   "cell_type": "markdown",
   "metadata": {},
   "source": [
    "4\\.Through the initial trial of Tkinter,    please write a simple calculator.\n",
    "\n",
    "<div style=\"float:left;\" ><img src=\"img/p3.png\" width=\"180\" height=\"200\" center=\"left\"></div>\n",
    "<div style=\"float:left;\" ><img src=\"img/p4.png\" width=\"180\" height=\"200\" center=\"right\" ></div>"
   ]
  },
  {
   "cell_type": "code",
   "execution_count": 11,
   "metadata": {},
   "outputs": [],
   "source": [
    "from tkinter import *\n",
    "\n",
    "class Calculator(Frame):\n",
    "     def __init__(self):\n",
    "        Frame.__init__(self)\n",
    "        self.pack(expand=YES, fill=BOTH)\n",
    "        self.master.title('simple calculator')\n",
    "        self.master.rowconfigure( 0, weight = 1 )\n",
    "        self.master.columnconfigure( 0, weight = 1 )\n",
    "        self.grid( sticky = W+E+N+S )\n",
    "\n",
    "        display = StringVar()\n",
    "\n",
    "        #add entry ,use grid method\n",
    "        #textvariable must use 'display' instead of 'StrinvVar()', or click button shows nothing in Entry\n",
    "        entry = Entry(self, relief=SUNKEN, textvariable=display)\n",
    "        #W+E+N+S means that the widget should be expanded in both directions. Default is to center the widget in the cell.\n",
    "        entry.grid(row=0, column=0, columnspan=4, sticky=W+E+N+S)\n",
    "\n",
    "        #add button, use grid method\n",
    "        grid = '789+456-123*0./='\n",
    "        for index,textChar in enumerate(grid):\n",
    "            a = Button(self, text=textChar, width=5, command=lambda text=textChar:display.set(display.get() + text))\n",
    "            a.grid(row=1+index//4, column=index%4)\n",
    "            button_text = a.cget(\"text\")\n",
    "            #print(button_text)\n",
    "            if button_text == '=':\n",
    "                a.config(command=lambda:display.set(eval(display.get())))\n",
    "\n",
    "        #add clear button\n",
    "        b = Button(self, text=\"clear\", width=20, command=lambda:display.set(\"\"))\n",
    "        b.grid(row=7, column=0, columnspan=4, sticky=W+E+N+S)\n",
    "\n",
    "\n",
    "\n",
    "if __name__ == '__main__':\n",
    "    Calculator().mainloop()\n"
   ]
  },
  {
   "cell_type": "markdown",
   "metadata": {},
   "source": [
    "5\\.Ball game:Python's pinball game, which can realize the game function of the keyboard control bottom baffle moving collision ball similar to table tennis game. \n",
    "\n",
    "<div style=\"float:left;\" ><img src=\"img/p5.png\" width=\"200\" height=\"200\" center=\"left\"></div>\n",
    "<div style=\"float:left;\" ><img src=\"img/p6.png\" width=\"200\" height=\"200\" center=\"right\" ></div>\n"
   ]
  },
  {
   "cell_type": "markdown",
   "metadata": {},
   "source": [
    "this is a step:how to install the matplotlib,you can reference this link:https://blog.csdn.net/not_give_up_/article/details/79058272\n",
    "1. Ball Class\n",
    "    draw is responsible for moving Ball\n",
    "    Collision detection, bounce, Ball detection of Paddle \n",
    "2. Paddle Class\n",
    "    draw is responsible for moving Paddle\n",
    "    Collision detection to determine whether or not to continue ,Monitor keyboard events\n",
    "3. main cycle\n",
    "    Drawing the Ball and Paddle"
   ]
  },
  {
   "cell_type": "code",
   "execution_count": 15,
   "metadata": {},
   "outputs": [
    {
     "ename": "TclError",
     "evalue": "can't invoke \"update\" command: application has been destroyed",
     "output_type": "error",
     "traceback": [
      "\u001b[1;31m---------------------------------------------------------------------------\u001b[0m",
      "\u001b[1;31mTclError\u001b[0m                                  Traceback (most recent call last)",
      "\u001b[1;32m<ipython-input-15-97347a7504a6>\u001b[0m in \u001b[0;36m<module>\u001b[1;34m()\u001b[0m\n\u001b[0;32m     64\u001b[0m         \u001b[0mball\u001b[0m\u001b[1;33m.\u001b[0m\u001b[0mdraw\u001b[0m\u001b[1;33m(\u001b[0m\u001b[1;33m)\u001b[0m\u001b[1;33m\u001b[0m\u001b[0m\n\u001b[0;32m     65\u001b[0m         \u001b[0mpaddle\u001b[0m\u001b[1;33m.\u001b[0m\u001b[0mdraw\u001b[0m\u001b[1;33m(\u001b[0m\u001b[1;33m)\u001b[0m\u001b[1;33m\u001b[0m\u001b[0m\n\u001b[1;32m---> 66\u001b[1;33m     \u001b[0mtk\u001b[0m\u001b[1;33m.\u001b[0m\u001b[0mupdate_idletasks\u001b[0m\u001b[1;33m(\u001b[0m\u001b[1;33m)\u001b[0m\u001b[1;33m\u001b[0m\u001b[0m\n\u001b[0m\u001b[0;32m     67\u001b[0m     \u001b[0mtk\u001b[0m\u001b[1;33m.\u001b[0m\u001b[0mupdate\u001b[0m\u001b[1;33m(\u001b[0m\u001b[1;33m)\u001b[0m\u001b[1;33m\u001b[0m\u001b[0m\n\u001b[0;32m     68\u001b[0m     \u001b[0mtime\u001b[0m\u001b[1;33m.\u001b[0m\u001b[0msleep\u001b[0m\u001b[1;33m(\u001b[0m\u001b[1;36m0.01\u001b[0m\u001b[1;33m)\u001b[0m\u001b[1;33m\u001b[0m\u001b[0m\n",
      "\u001b[1;32m~\\Anaconda3\\lib\\tkinter\\__init__.py\u001b[0m in \u001b[0;36mupdate_idletasks\u001b[1;34m(self)\u001b[0m\n\u001b[0;32m   1177\u001b[0m         \u001b[0mwill\u001b[0m \u001b[0mupdate\u001b[0m \u001b[0mthe\u001b[0m \u001b[0mdisplay\u001b[0m \u001b[0mof\u001b[0m \u001b[0mwindows\u001b[0m \u001b[0mbut\u001b[0m \u001b[1;32mnot\u001b[0m \u001b[0mprocess\u001b[0m \u001b[0mevents\u001b[0m \u001b[0mcaused\u001b[0m \u001b[0mby\u001b[0m\u001b[1;33m\u001b[0m\u001b[0m\n\u001b[0;32m   1178\u001b[0m         the user.\"\"\"\n\u001b[1;32m-> 1179\u001b[1;33m         \u001b[0mself\u001b[0m\u001b[1;33m.\u001b[0m\u001b[0mtk\u001b[0m\u001b[1;33m.\u001b[0m\u001b[0mcall\u001b[0m\u001b[1;33m(\u001b[0m\u001b[1;34m'update'\u001b[0m\u001b[1;33m,\u001b[0m \u001b[1;34m'idletasks'\u001b[0m\u001b[1;33m)\u001b[0m\u001b[1;33m\u001b[0m\u001b[0m\n\u001b[0m\u001b[0;32m   1180\u001b[0m     \u001b[1;32mdef\u001b[0m \u001b[0mbindtags\u001b[0m\u001b[1;33m(\u001b[0m\u001b[0mself\u001b[0m\u001b[1;33m,\u001b[0m \u001b[0mtagList\u001b[0m\u001b[1;33m=\u001b[0m\u001b[1;32mNone\u001b[0m\u001b[1;33m)\u001b[0m\u001b[1;33m:\u001b[0m\u001b[1;33m\u001b[0m\u001b[0m\n\u001b[0;32m   1181\u001b[0m         \"\"\"Set or get the list of bindtags for this widget.\n",
      "\u001b[1;31mTclError\u001b[0m: can't invoke \"update\" command: application has been destroyed"
     ]
    }
   ],
   "source": [
    "## write your answer here!\n",
    "from tkinter import *\n",
    "import matplotlib\n",
    "matplotlib.use('Agg')\n",
    "import random\n",
    "import time\n",
    "class Ball:\n",
    "    def __init__(self, canvas, paddle, color):\n",
    "        self.canvas = canvas\n",
    "        self.paddle = paddle\n",
    "        self.id = canvas.create_oval(10, 10, 25, 25, fill=color)\n",
    "        self.canvas.move(self.id, 245, 100)\n",
    "        startx = [-3, -2, -1, 1, 2, 3]\n",
    "        random.shuffle(startx)\n",
    "        self.x = startx[0]\n",
    "        self.y = -3\n",
    "        self.canvas_height = self.canvas.winfo_height()\n",
    "        self.canvas_width = self.canvas.winfo_width()\n",
    "        self.hit_bottom = False\n",
    "    def draw(self):\n",
    "        self.canvas.move(self.id, self.x, self.y)\n",
    "        pos = self.canvas.coords(self.id)#top-left bottom-right\n",
    "        if (pos[1] <= 0 or self.hit_paddle(pos) == True):\n",
    "            self.y = -self.y\n",
    "        if (pos[0] <= 0 or pos[2] >= self.canvas_width):\n",
    "            self.x = -self.x\n",
    "        if (pos[3] >= self.canvas_height):\n",
    "            self.hit_bottom = True\n",
    "    def hit_paddle(self, pos):\n",
    "        paddle_pos = self.canvas.coords(self.paddle.id)\n",
    "        if (pos[2] >= paddle_pos[0] and pos[0] <= paddle_pos[2]):\n",
    "            if (pos[3] >= paddle_pos[1] and pos[3] <= paddle_pos[3]):\n",
    "                return True\n",
    "        return False\n",
    "class Paddle:\n",
    "    def __init__(self, canvas, color):\n",
    "        self.canvas = canvas\n",
    "        self.id = canvas.create_rectangle(0, 0, 100, 10, fill = color)\n",
    "        self.x = 0\n",
    "        self.canvas.move(self.id, 200, 300)\n",
    "        self.canvas_width = self.canvas.winfo_width()\n",
    "        self.canvas.bind_all(\"<Key-Left>\", self.turn_left)\n",
    "        self.canvas.bind_all(\"<Key-Right>\", self.turn_right)\n",
    "    def draw(self):\n",
    "        pos = self.canvas.coords(self.id)\n",
    "        if (pos[0] + self.x >= 0 and pos[2] + self.x <= self.canvas_width):\n",
    "            self.canvas.move(self.id, self.x, 0)\n",
    "        #self.x = 0\n",
    "    def turn_left(self, event):\n",
    "        self.x = -4\n",
    "    def turn_right(self, event):\n",
    "        self.x = 4\n",
    "tk = Tk()\n",
    "tk.title(\"Game\")\n",
    "tk.resizable(0, 0)#not resizable\n",
    "tk.wm_attributes(\"-topmost\", 1)#at top\n",
    "canvas = Canvas(tk, width = 500, height = 500, bd = 0, highlightthickness = 0)\n",
    "canvas.pack()\n",
    "tk.update()#init\n",
    "paddle = Paddle(canvas, 'blue')\n",
    "ball = Ball(canvas, paddle, 'red')\n",
    "while 1:\n",
    "    if (ball.hit_bottom == False):\n",
    "        ball.draw()\n",
    "        paddle.draw()\n",
    "    tk.update_idletasks()\n",
    "    tk.update()\n",
    "    time.sleep(0.01)"
   ]
  }
 ],
 "metadata": {
  "kernelspec": {
   "display_name": "Python 3",
   "language": "python",
   "name": "python3"
  },
  "language_info": {
   "codemirror_mode": {
    "name": "ipython",
    "version": 3
   },
   "file_extension": ".py",
   "mimetype": "text/x-python",
   "name": "python",
   "nbconvert_exporter": "python",
   "pygments_lexer": "ipython3",
   "version": "3.6.5"
  }
 },
 "nbformat": 4,
 "nbformat_minor": 2
}
